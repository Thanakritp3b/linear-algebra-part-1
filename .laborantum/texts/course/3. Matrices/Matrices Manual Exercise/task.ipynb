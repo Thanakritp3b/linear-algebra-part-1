{
    "cells": [
        {
            "cell_type": "code",
            "execution_count": 7,
            "id": "803a8d9e",
            "metadata": {},
            "outputs": [],
            "source": [
                "import numpy as np\n",
                "import json_tricks\n",
                "\n",
                "answer = {}\n",
                "\n",
                "\n",
                "inputs = json_tricks.load('inputs.json')"
            ]
        },
        {
            "cell_type": "markdown",
            "id": "41393305",
            "metadata": {},
            "source": [
                "# Task\n",
                "\n",
                "Perform the following operations:\n",
                "\n",
                "$$ 5 \\begin{bmatrix} 1 & 2 & 3 \\\\ 4 & 5 & 6 \\\\ 7 & 8 & 9 \\end{bmatrix} - 4 \\begin{bmatrix} 9 & 8 & 7 \\\\ 6 & 5 & 4 \\\\ 3 & 2 & 1 \\end{bmatrix} $$\n",
                "\n",
                "Write the answer in form of numpy array"
            ]
        },
        {
            "cell_type": "code",
            "execution_count": 8,
            "id": "2a329887",
            "metadata": {},
            "outputs": [
                {
                    "data": {
                        "text/plain": [
                            "array([[-31, -22, -13],\n",
                            "       [ -4,   5,  14],\n",
                            "       [ 23,  32,  41]])"
                        ]
                    },
                    "execution_count": 8,
                    "metadata": {},
                    "output_type": "execute_result"
                }
            ],
            "source": [
                "A = np.array([[1,2,3],[4,5,6],[7,8,9]])\n",
                "B = np.array([[9,8,7],[6,5,4],[3,2,1]])\n",
                "answer['task1'] = np.array(\n",
                "    (5 * A) - (4 * B)\n",
                ")\n",
                "answer['task1']"
            ]
        },
        {
            "cell_type": "markdown",
            "id": "66c2e0bf",
            "metadata": {},
            "source": [
                "# Matrix Transposition\n",
                "\n",
                "Transpose the matrix:\n",
                "\n",
                "$$\n",
                "\\begin{bmatrix}\n",
                "1 & 2 & 3 & 4 & 5 \\\\\n",
                "6 & 7 & 8 & 9 & 0\n",
                "\\end{bmatrix}\n",
                "$$"
            ]
        },
        {
            "cell_type": "code",
            "execution_count": 9,
            "id": "ec681251",
            "metadata": {},
            "outputs": [
                {
                    "data": {
                        "text/plain": [
                            "array([[ 1,  2,  3,  4,  5],\n",
                            "       [ 6,  7,  8,  9, 10]])"
                        ]
                    },
                    "execution_count": 9,
                    "metadata": {},
                    "output_type": "execute_result"
                }
            ],
            "source": [
                "answer['task2'] = np.array([\n",
                "    [1,6],\n",
                "    [2,7],\n",
                "    [3,8],\n",
                "    [4,9],\n",
                "    [5,10]\n",
                "]).T\n",
                "answer['task2']\n",
                "#กูว่าไม่ใช่"
            ]
        },
        {
            "cell_type": "markdown",
            "id": "37cc9496",
            "metadata": {},
            "source": [
                "# Calculate the Matrix Products\n",
                "\n",
                "1. \n",
                "$$\n",
                "\\begin{bmatrix}\n",
                "1 & 2 & 3 \\\\\n",
                "4 & 5 & 6 \\\\\n",
                "7 & 8 & 9\n",
                "\\end{bmatrix}\n",
                "\n",
                "\\begin{bmatrix}\n",
                "1 & 2 & 3 \\\\\n",
                "4 & 5 & 6 \\\\\n",
                "7 & 8 & 9\n",
                "\\end{bmatrix}\n",
                "$$\n",
                "\n",
                "2. \n",
                "$$\n",
                "\\begin{bmatrix}\n",
                "1 & 2 \\\\\n",
                "3 & 4\n",
                "\\end{bmatrix}\n",
                "\n",
                "\\begin{bmatrix}\n",
                "1 & 2 \\\\\n",
                "3 & 4\n",
                "\\end{bmatrix}\n",
                "\n",
                "\\begin{bmatrix}\n",
                "1 & 2 \\\\\n",
                "3 & 4\n",
                "\\end{bmatrix}\n",
                "$$\n",
                "\n",
                "3. \n",
                "$$\n",
                "\\begin{bmatrix}\n",
                "1 & 2 & 3 & 4 & 5 \\\\\n",
                "6 & 7 & 8 & 9 & 0\n",
                "\\end{bmatrix}\n",
                "\n",
                "\\begin{bmatrix}\n",
                "1 & 2 \\\\\n",
                "3 & 4 \\\\\n",
                "5 & 6 \\\\\n",
                "7 & 8 \\\\\n",
                "9 & 0\n",
                "\\end{bmatrix}\n",
                "\n",
                "\\begin{bmatrix}\n",
                "1 \\\\ 2\n",
                "\\end{bmatrix}\n",
                "$$"
            ]
        },
        {
            "cell_type": "code",
            "execution_count": 10,
            "id": "1ede5000",
            "metadata": {},
            "outputs": [],
            "source": [
                "A = np.array([[1,2,3],\n",
                "     [4,5,6],\n",
                "     [7,8,9]])\n",
                "B = np.array([[1,2],\n",
                "     [3,4]])\n",
                "C = np.array([[1,2,3,4,5],\n",
                "     [6,7,8,9,10]])\n",
                "D = np.array([[1,2],\n",
                "              [3,4],\n",
                "              [5,6],\n",
                "              [7,8],\n",
                "              [9,10]])\n",
                "answer['task3'] = {\n",
                "    '1': np.array(\n",
                "        A @ A\n",
                "    ),\n",
                "    '2': np.array(\n",
                "        (B @ B) @ B\n",
                "    ),\n",
                "    '3': np.array(\n",
                "        (C @ D) @ np.array([[1],\n",
                "                     [2]])\n",
                "    )\n",
                "}"
            ]
        },
        {
            "cell_type": "markdown",
            "id": "0428d179",
            "metadata": {},
            "source": [
                "# Calculate the value\n",
                "\n",
                "$$\n",
                "\\frac{\\|A \\mathbf x\\|}{\\|\\mathbf x\\|},\n",
                "$$\n",
                "\n",
                "where\n",
                "\n",
                "$$\n",
                "A = \\begin{bmatrix}\n",
                "1 & 2 & 2 \\\\\n",
                "2 & 1 & 2 \\\\\n",
                "2 & 2 & 1\n",
                "\\end{bmatrix},\n",
                "\n",
                "\\mathbf x = \\begin{bmatrix}\n",
                "1 \\\\\n",
                "1 \\\\\n",
                "-1\n",
                "\\end{bmatrix}\n",
                "$$"
            ]
        },
        {
            "cell_type": "code",
            "execution_count": 15,
            "id": "6273d527",
            "metadata": {},
            "outputs": [],
            "source": [
                "A = np.array([[1,2,2],\n",
                "              [2,1,2],\n",
                "              [2,2,1]])\n",
                "x = np.array([[1],[1],[-1]])\n",
                "answer['task4'] = (\n",
                "    np.linalg.norm(A @ x) / np.linalg.norm(x)\n",
                ")"
            ]
        },
        {
            "cell_type": "markdown",
            "id": "5b541231",
            "metadata": {},
            "source": [
                "# Numpy dot-product operator\n",
                "\n",
                "In `numpy` there is a dot-product operator. To calculate\n",
                "dot product of matrices `A` and `B`, you should run: \n",
                "`A @ B`, where `@` suddenly is an operator, like `+` or\n",
                "`*`.\n",
                "\n",
                "## Task\n",
                "\n",
                "You are given two matrices `A` and `B` in a form \n",
                "of `numpy.ndarray`. The task is to calculate the product\n",
                "`A @ B` using the standard `numpy` dot-product operator: `@`. \n",
                "Consider the shapes of matrices\n",
                "are such that you can perform dot-product.\n",
                "\n",
                "## Interface\n",
                "\n",
                "**Input**: `A, B: numpy.ndarrays`\n",
                "\n",
                "**Output**: `C: numpy.ndarray`"
            ]
        },
        {
            "cell_type": "code",
            "execution_count": 16,
            "id": "00cdd1c7",
            "metadata": {},
            "outputs": [],
            "source": [
                "def dot_product(A, B):\n",
                "    res = A\n",
                "    res = np.dot(A,B)\n",
                "    return res"
            ]
        },
        {
            "cell_type": "code",
            "execution_count": 17,
            "id": "3409a4ce",
            "metadata": {},
            "outputs": [],
            "source": [
                "answer['task5'] = []\n",
                "for one_input in inputs['task5']:\n",
                "    answer['task5'].append(dot_product(**one_input))"
            ]
        },
        {
            "cell_type": "code",
            "execution_count": 14,
            "id": "b519a560",
            "metadata": {},
            "outputs": [
                {
                    "data": {
                        "text/plain": [
                            "'{\"task1\": {\"__ndarray__\": [[-31, -22, -13], [-4, 5, 14], [23, 32, 41]], \"dtype\": \"int64\", \"shape\": [3, 3], \"Corder\": true}, \"task2\": {\"__ndarray__\": [[1, 2, 3, 4, 5], [6, 7, 8, 9, 10]], \"dtype\": \"int64\", \"shape\": [2, 5], \"Corder\": false}, \"task3\": {\"1\": {\"__ndarray__\": [[30, 36, 42], [66, 81, 96], [102, 126, 150]], \"dtype\": \"int64\", \"shape\": [3, 3], \"Corder\": true}, \"2\": {\"__ndarray__\": [[37, 54], [81, 118]], \"dtype\": \"int64\", \"shape\": [2, 2], \"Corder\": true}, \"3\": {\"__ndarray__\": [[315], [740]], \"dtype\": \"int64\", \"shape\": [2, 1], \"Corder\": true}}, \"task4\": [], \"task5\": [{\"__ndarray__\": [[4, 0, -3, -4, 8], [0, 0, -7, -3, -8], [-9, 1, -5, -9, -10], [1, 1, 6, -1, 5], [4, 4, 8, 1, 9], [-8, -6, 8, -4, -2], [-4, 7, -7, 3, 7], [-2, -9, 9, 4, -4]], \"dtype\": \"int64\", \"shape\": [8, 5], \"Corder\": true}, {\"__ndarray__\": [[2, -10, -4, -2, -10, 1], [-3, 0, 8, 6, -3, -8]], \"dtype\": \"int64\", \"shape\": [2, 6], \"Corder\": true}, {\"__ndarray__\": [[-5, 1, 1, 9, 0, -4], [-10, -10, 9, 2, -2, -8], [-4, -5, -3, -2, -6, -10]], \"dtype\": \"int64\", \"shape\": [3, 6], \"Corder\": true}]}'"
                        ]
                    },
                    "execution_count": 14,
                    "metadata": {},
                    "output_type": "execute_result"
                }
            ],
            "source": [
                "json_tricks.dump(answer, '.answer.json')"
            ]
        }
    ],
    "metadata": {
        "kernelspec": {
            "display_name": "Python 3",
            "language": "python",
            "name": "python3"
        },
        "language_info": {
            "codemirror_mode": {
                "name": "ipython",
                "version": 3
            },
            "file_extension": ".py",
            "mimetype": "text/x-python",
            "name": "python",
            "nbconvert_exporter": "python",
            "pygments_lexer": "ipython3",
            "version": "3.11.13"
        }
    },
    "nbformat": 4,
    "nbformat_minor": 5
}
