{
    "cells": [
        {
            "cell_type": "code",
            "execution_count": 2,
            "id": "acceacb5",
            "metadata": {},
            "outputs": [],
            "source": [
                "import numpy as np\n",
                "import json_tricks\n",
                "\n",
                "answer = {}\n",
                "\n",
                "\n",
                "inputs = json_tricks.load('inputs.json')\n"
            ]
        },
        {
            "cell_type": "markdown",
            "id": "2a65a805",
            "metadata": {},
            "source": [
                "# Matrix Product II\n",
                "\n",
                "$$A_{5 \\times 10} \\  B_{10 \\times 2}\\ C_{2 \\times 30}\\ D_{30 \\times 3}\\ E_{3 \\times 9}$$\n",
                "\n",
                "1. What will be the shape of the resulting matrix?\n",
                "2. How many multiplication of numbers are required at best?"
            ]
        },
        {
            "cell_type": "code",
            "execution_count": 3,
            "id": "70ec671d",
            "metadata": {},
            "outputs": [],
            "source": [
                "answer['task1'] = {\n",
                "    '1': [5,9],\n",
                "    '2': 424\n",
                "}\n",
                "\n"
            ]
        },
        {
            "cell_type": "markdown",
            "id": "a134c56f",
            "metadata": {},
            "source": [
                "# Numpy expression\n",
                "\n",
                "Using Numpy, write a function that calculates the \n",
                "following expression:\n",
                "\n",
                "$$\\exp(A^T(B + 2C) + 3I) \\mathbf x,$$\n",
                "\n",
                "where $I$ is an identity matrix of the necessary shape."
            ]
        },
        {
            "cell_type": "code",
            "execution_count": 4,
            "id": "71c02732",
            "metadata": {},
            "outputs": [],
            "source": [
                "def numpy_expression(A, B, C, x):\n",
                "    step1 = B + 2 * C\n",
                "    \n",
                "    step2 = A.T @ step1\n",
                "    \n",
                "    I = np.eye(step2.shape[0], step2.shape[1])  \n",
                "    step3 = step2 + (3 * I)\n",
                "    \n",
                "    step4 = np.exp(step3)\n",
                "    \n",
                "    res = step4 @ x\n",
                "    \n",
                "    return res"
            ]
        },
        {
            "cell_type": "code",
            "execution_count": 5,
            "id": "e93e082d",
            "metadata": {},
            "outputs": [
                {
                    "data": {
                        "text/plain": [
                            "[array([[-8.27590894e+033],\n",
                            "        [-6.29718677e+100],\n",
                            "        [-1.60179377e+088],\n",
                            "        [-7.79228831e+010],\n",
                            "        [-4.60139214e+144],\n",
                            "        [-1.12933457e+070],\n",
                            "        [-9.84176105e+082],\n",
                            "        [-2.62446961e+083]]),\n",
                            " array([[-8.43835667e+27],\n",
                            "        [ 1.66183588e+69]]),\n",
                            " array([[ 5.97988376e+120],\n",
                            "        [-7.66898691e+144],\n",
                            "        [ 5.31657438e+086],\n",
                            "        [ 2.58854587e+171]]),\n",
                            " array([[ 8.14713560e+109],\n",
                            "        [-5.74229105e+097],\n",
                            "        [ 1.18332459e+123],\n",
                            "        [-2.22611614e+233],\n",
                            "        [ 2.71429001e+150],\n",
                            "        [-7.27213245e+083]]),\n",
                            " array([[-1.96422332e+087],\n",
                            "        [ 2.40167650e+156],\n",
                            "        [-4.91518686e+002]]),\n",
                            " array([[-3.71266816e+147],\n",
                            "        [-4.93725410e+192],\n",
                            "        [-3.02285533e+111]]),\n",
                            " array([[-4.69932272e+174],\n",
                            "        [-1.86160358e+068],\n",
                            "        [ 2.58673893e+016],\n",
                            "        [-1.96038349e+048],\n",
                            "        [ 1.53621676e+181],\n",
                            "        [-2.26460264e+024]]),\n",
                            " array([[ 3.56029316e+54],\n",
                            "        [-7.91122426e+43],\n",
                            "        [-4.99186955e+01],\n",
                            "        [-4.45263344e-01],\n",
                            "        [-8.33100755e+23],\n",
                            "        [ 4.21917833e+27]]),\n",
                            " array([[-9.12552257e-78],\n",
                            "        [-6.69167360e+42],\n",
                            "        [ 1.72833054e+58],\n",
                            "        [ 6.88134948e+27],\n",
                            "        [ 9.14470485e-83]]),\n",
                            " array([[-2.93748211e-029],\n",
                            "        [-4.70852734e+214],\n",
                            "        [-5.62262576e+068]])]"
                        ]
                    },
                    "execution_count": 5,
                    "metadata": {},
                    "output_type": "execute_result"
                }
            ],
            "source": [
                "answer['task2'] = []\n",
                "for one_input in inputs['task2']:\n",
                "    answer['task2'].append(numpy_expression(**one_input))\n",
                "answer['task2']"
            ]
        },
        {
            "cell_type": "markdown",
            "id": "2aef45b9",
            "metadata": {},
            "source": [
                "# Einstein's Rule\n",
                "\n",
                "In *Tensor Algebra*, a direct generalization of the Linear Algebra to the case of $N$-dimentional tables called *tensors* (normal matrix), the Einstein's rule exists.\n",
                "\n",
                "It works as follows: if you see a duplicating upper and lower index in the formula, that means, this index convolves.\n",
                "\n",
                "For example, the following tensor expression, summation and matrix product are equivalent:\n",
                "\n",
                "$$a_k^l b_l^m = \\sum_{l=1}^L a_k^l b_l^m = AB$$\n",
                "\n",
                "In this notation subscript means row index and superscript means column index.\n",
                "\n",
                "<details>\n",
                "<summary> Note </summary>\n",
                "\n",
                "> [!NOTE]\n",
                "> Also at some point it will be important to know that:\n",
                "> * lower index represents a contravariant dimension of a\n",
                "> tensor\n",
                "> * upper index represents a covariant dimension \n",
                "> of tensor. But let us omit this part for now.\n",
                "\n",
                "</details>\n",
                "\n",
                "# Task\n",
                "\n",
                "Calculate the following expression written using Einstein's \n",
                "rule:\n",
                "\n",
                "$$a_k^m b_m^n c_n^o d_l^k$$"
            ]
        },
        {
            "cell_type": "code",
            "execution_count": 6,
            "id": "3feb6914",
            "metadata": {},
            "outputs": [],
            "source": [
                "def einsteins_rule(A, B, C, D):\n",
                "    res = A\n",
                "    #your code here\n",
                "    res = np.matmul(res, B)\n",
                "    res = np.matmul(res, C)\n",
                "    res = np.matmul(D, res)\n",
                "    return res"
            ]
        },
        {
            "cell_type": "code",
            "execution_count": 7,
            "id": "f9cd1e7e",
            "metadata": {},
            "outputs": [
                {
                    "data": {
                        "text/plain": [
                            "[array([[ 48506,  -8208,  -2323, -42632, -37130,   6317,   -346,  28727],\n",
                            "        [-39432,  -2813,  12000,  37266,  28457, -28774,   9193,   1945],\n",
                            "        [ 23582,  15271, -19458,   2009, -13383, -23067,    821, -35268],\n",
                            "        [ -6730,   8065,   3048,  19644,  13563,  -5324,  -3583, -17783],\n",
                            "        [ 29391,   8495, -22202, -25782, -12722,   2634, -21327,   2777],\n",
                            "        [ 23946, -12401,  10651, -18540, -39014, -14482,  20230,  24802],\n",
                            "        [-10750,  25247, -37835,  -5284,    238,   1056, -32336, -24844],\n",
                            "        [-12009,  -6748,  41340,  16307,   4256,  65230, -13003,   9533]]),\n",
                            " array([[-830,  830],\n",
                            "        [-516,  516]]),\n",
                            " array([[ 3737, -3005,  2001,  4167],\n",
                            "        [10260, -5360,  4416,  5317],\n",
                            "        [ 9164,  -304,  4252,  2955],\n",
                            "        [ 1789, 12291,  2981,   902]]),\n",
                            " array([[ -7132, -43627,  26225, -37002,  -4029,  22759],\n",
                            "        [ 12604, -34143,  19871, -12877,  -4428,  18386],\n",
                            "        [ 10135,    471,    485,   7453,   -882,  -2864],\n",
                            "        [ -7921,  25168, -14713,  -6843,  10992,  -8530],\n",
                            "        [-12608,  19603,  -5291,  16208,  -9967, -23383],\n",
                            "        [ 10775, -11255,   7687,  32784, -18639,  -3685]]),\n",
                            " array([[ 3479, -3486,  -611],\n",
                            "        [  387, -1143, -3015],\n",
                            "        [ -524,  -291, -3040]]),\n",
                            " array([[ -2968,  -3136,   -648],\n",
                            "        [   464,    554,    585],\n",
                            "        [ -5766,  -4374, -11655]]),\n",
                            " array([[ 21987,  10628,  21988,   9512, -14254,   2862],\n",
                            "        [ 13559,  16625,  46019,  18639, -26835,  -4995],\n",
                            "        [ 29597,  15802, -13560,  17753, -23264, -24373],\n",
                            "        [-29885, -18482, -29197, -27354,  24658,   4342],\n",
                            "        [ -2292,   1900,  25073,   4470,  -1086,  11279],\n",
                            "        [ -4760, -15348, -34937, -22981,  15002,  -6600]]),\n",
                            " array([[ 11503,  -6754,  -1815, -10766,   1149,  -8275],\n",
                            "        [ -7095,  -8295,  10598, -18954,  23757,   4560],\n",
                            "        [ 12906,  -4185,  13754, -19508,  27283,  -5663],\n",
                            "        [-30623,  -7288,  -8748,   6081, -10953,  10366],\n",
                            "        [  -338,  -4252, -16448,   3800, -28137,  -1403],\n",
                            "        [-10174,  -5932,   3717,  -9211,  11584,  -2094]]),\n",
                            " array([[  8012,   5161,   3784,  11445,   9975],\n",
                            "        [ 11218,   4253,   -942,   9406,  -1859],\n",
                            "        [ -2770,  -9366,  -6886, -15593, -34320],\n",
                            "        [ -7052, -11803,   1615, -13682, -23176],\n",
                            "        [ -9820, -10267,  -8899, -19112, -24718]]),\n",
                            " array([[  942, -5394,  1617],\n",
                            "        [ 1870,  2822,   749],\n",
                            "        [ 6300,  1440,  3612]])]"
                        ]
                    },
                    "execution_count": 7,
                    "metadata": {},
                    "output_type": "execute_result"
                }
            ],
            "source": [
                "answer['task3'] = []\n",
                "for one_input in inputs['task3']:\n",
                "    answer['task3'].append(einsteins_rule(**one_input))\n",
                "answer['task3']"
            ]
        },
        {
            "cell_type": "markdown",
            "id": "ad37cd42",
            "metadata": {},
            "source": [
                "# Diagonal Matrix Product\n",
                "\n",
                "You are given two square matrices: $A$ and $D$, where $A$ is a \n",
                "full matrix and $D$ is a diagonal matrix:\n",
                "\n",
                "$$\n",
                "A = \\begin{bmatrix}\n",
                "- & \\mathbf a_1 & - \\\\\n",
                "& \\vdots & \\\\\n",
                "- & \\mathbf a_N & - \\\\\n",
                "\\end{bmatrix}\n",
                "$$\n",
                "\n",
                "$$\n",
                "D = \\textrm{diag}(d_1, d_2, \\dots, d_N) = \\begin{bmatrix}\n",
                "d_1 & & & & \\\\\n",
                "& d_2 & & & \\\\\n",
                "& & d_3 & & \\\\\n",
                "& & & \\ddots & \\\\\n",
                "& & & & d_N \n",
                "\\end{bmatrix}\n",
                "$$\n",
                "\n",
                "Write a program to calculate the result of $DA$ and $AD$ in \n",
                "the fastest possible way."
            ]
        },
        {
            "cell_type": "code",
            "execution_count": 8,
            "id": "af333a41",
            "metadata": {},
            "outputs": [],
            "source": [
                "def diag_prod_DA(A, D):\n",
                "    d = np.diag(D)\n",
                "    res = A * d[:, None]\n",
                "    return res\n",
                "\n",
                "def diag_prod_AD(A, D):\n",
                "    d = np.diag(D)\n",
                "    res = A * d[None, :]\n",
                "    return res"
            ]
        },
        {
            "cell_type": "code",
            "execution_count": 9,
            "id": "68f65717",
            "metadata": {},
            "outputs": [
                {
                    "data": {
                        "text/plain": [
                            "[array([[ -4,   2, -20, -20,   8, -18,  10,  -6],\n",
                            "        [  2, -10,   5,  -4,  -6,  -8,   1,   5],\n",
                            "        [ 24, -18,   9, -18,  12,  18,   9,  27],\n",
                            "        [ 54,  -9, -45, -45,  36,  63,  90,  54],\n",
                            "        [ -8, -48, -56, -72,  72,  -8,  64, -80],\n",
                            "        [-42,  14, -49,  35,  35, -63,  42,  63],\n",
                            "        [ -8, -56,  64,  80,  80, -64,   0,  48],\n",
                            "        [  6, -48, -60, -60, -18,  -6,   0,   6]]),\n",
                            " array([[-36,  -6],\n",
                            "        [ -3,  24]]),\n",
                            " array([[  0,   0,   0,   0],\n",
                            "        [ 49, -56, -63,  70],\n",
                            "        [ 18,  12,   2,   8],\n",
                            "        [  0,   0,   0,   0]]),\n",
                            " array([[ 14,  35,  63, -42,  42,  35],\n",
                            "        [  4,  -4, -20, -12, -36,   4],\n",
                            "        [ 18, -36,  -9,  18,  54,  27],\n",
                            "        [-72,   0, -80,  64, -56,  64],\n",
                            "        [  0,  24,   0,  56, -48,  32],\n",
                            "        [-27, -72, -81,  36, -54, -90]]),\n",
                            " array([[-20,  -5,  35],\n",
                            "        [-32,  36,   4],\n",
                            "        [-16,   0, -40]]),\n",
                            " array([[ 63, -36,  36],\n",
                            "        [  0,  35,   5],\n",
                            "        [-35,  63,  14]]),\n",
                            " array([[ 21,  15,  12, -21,  18, -27],\n",
                            "        [ 64,  32, -24,  32,  48,  48],\n",
                            "        [ 18,  10,  -8,   2,   8,  12],\n",
                            "        [-90,  18,  63,  18,  63, -54],\n",
                            "        [-10,  35, -30,  40, -30,   0],\n",
                            "        [ -9,   7,   9,  -9,  -5,  -7]]),\n",
                            " array([[-81,  45, -81,  -9, -81,  45],\n",
                            "        [-40, -64,  32,  -8, -32,  24],\n",
                            "        [ 25,   5,  40, -40, -30,  20],\n",
                            "        [-36,  28, -12, -36, -16,  12],\n",
                            "        [ 36,  81,  27, -18, -27,  54],\n",
                            "        [-63, -56, -21,   7, -70,  -7]]),\n",
                            " array([[ 63,  54,   9, -45, -27],\n",
                            "        [-80,  10, 100, -20, -60],\n",
                            "        [ 32,  12, -12,  32, -20],\n",
                            "        [ 12,  54,  36,  12, -30],\n",
                            "        [ -6,  -3,  -6,   3,   0]]),\n",
                            " array([[  2,  12,  12],\n",
                            "        [ -6, -36, -48],\n",
                            "        [-10, -14,  14]])]"
                        ]
                    },
                    "execution_count": 9,
                    "metadata": {},
                    "output_type": "execute_result"
                }
            ],
            "source": [
                "answer['task4_1'] = []\n",
                "answer['task4_2'] = []\n",
                "for one_input in inputs['task4']:\n",
                "    answer['task4_1'].append(diag_prod_DA(**one_input))\n",
                "    answer['task4_2'].append(diag_prod_AD(**one_input))\n",
                "answer['task4_1']\n",
                "# answer['task4_2']"
            ]
        },
        {
            "cell_type": "markdown",
            "id": "fc7b3dc4",
            "metadata": {},
            "source": [
                "# Sparse Matrix Product\n",
                "\n",
                "You are given two matrices of the same shape: $A$ and $B$. Matrix $A$ is full\n",
                "and is given in the form of `numpy.ndarray`.\n",
                "\n",
                "The second matrix $B$ is **sparse**. That means that the \n",
                "majority of the items are equal to $0$ except for $M$. This matrix is given\n",
                "as a set of non-zero elements of this matrix in form of $3 \\times M$ `numpy.ndarray` as row-column-value tuple (COO sparse matrix form):\n",
                "\n",
                "$$\n",
                "\\begin{bmatrix}\n",
                "r_1 & c_1 & v_1 \\\\\n",
                "r_2 & c_2 & v_2 \\\\\n",
                "& \\vdots & \\\\\n",
                "r_M & c_M & v_M \\\\\n",
                "\\end{bmatrix}\n",
                "$$\n",
                "\n",
                "If in this struct two items correspond to the same location, consider the latter is correct.\n",
                "\n",
                "Write the most efficient program that calculates $AB$.\n",
                "\n",
                "Also return the ratio between the number of multiplication operations that are needed to calculate the sparse product and the number of operations for full product."
            ]
        },
        {
            "cell_type": "code",
            "execution_count": null,
            "id": "6a439900",
            "metadata": {},
            "outputs": [],
            "source": [
                "def sparse_matrix_product(A, B_sparse):\n",
                "    res = A\n",
                "    ratio = 0\n",
                "    \n",
                "\n",
                "    return res, ratio\n"
            ]
        },
        {
            "cell_type": "code",
            "execution_count": 11,
            "id": "2db5922f",
            "metadata": {},
            "outputs": [],
            "source": [
                "answer['task5'] = []\n",
                "for one_input in inputs['task5']:\n",
                "    answer['task5'].append(sparse_matrix_product(**one_input))"
            ]
        },
        {
            "cell_type": "code",
            "execution_count": 12,
            "id": "08e12548",
            "metadata": {},
            "outputs": [
                {
                    "data": {
                        "text/plain": [
                            "'{\"task1\": {\"1\": [5, 9], \"2\": 424}, \"task2\": [{\"__ndarray__\": [[-8.275908938500257e+33], [-6.29718677025919e+100], [-1.6017937662626578e+88], [-77922883127.9092], [-4.601392143156699e+144], [-1.1293345702805571e+70], [-9.841761046154011e+82], [-2.6244696123077364e+83]], \"dtype\": \"float64\", \"shape\": [8, 1], \"Corder\": true}, {\"__ndarray__\": [[-8.438356668741454e+27], [1.6618358824416089e+69]], \"dtype\": \"float64\", \"shape\": [2, 1], \"Corder\": true}, {\"__ndarray__\": [[5.979883758421911e+120], [-7.668986905261165e+144], [5.316574383475204e+86], [2.5885458717800575e+171]], \"dtype\": \"float64\", \"shape\": [4, 1], \"Corder\": true}, {\"__ndarray__\": [[8.147135599799323e+109], [-5.742291049527847e+97], [1.1833245862047797e+123], [-2.2261161390770436e+233], [2.7142900080228685e+150], [-7.272132448230352e+83]], \"dtype\": \"float64\", \"shape\": [6, 1], \"Corder\": true}, {\"__ndarray__\": [[-1.964223318681796e+87], [2.4016764986906346e+156], [-491.5186855815347]], \"dtype\": \"float64\", \"shape\": [3, 1], \"Corder\": true}, {\"__ndarray__\": [[-3.712668161401315e+147], [-4.937254096286033e+192], [-3.022855330008207e+111]], \"dtype\": \"float64\", \"shape\": [3, 1], \"Corder\": true}, {\"__ndarray__\": [[-4.69932272078773e+174], [-1.8616035756440227e+68], [2.586738928269117e+16], [-1.9603834926561277e+48], [1.5362167613107995e+181], [-2.2646026426197552e+24]], \"dtype\": \"float64\", \"shape\": [6, 1], \"Corder\": true}, {\"__ndarray__\": [[3.560293163444669e+54], [-7.911224255477557e+43], [-49.91869552254452], [-0.445263343622906], [-8.33100754706446e+23], [4.2191783343705236e+27]], \"dtype\": \"float64\", \"shape\": [6, 1], \"Corder\": true}, {\"__ndarray__\": [[-9.125522571785401e-78], [-6.691673596021347e+42], [1.7283305380185678e+58], [6.88134947840883e+27], [9.144704852915045e-83]], \"dtype\": \"float64\", \"shape\": [5, 1], \"Corder\": true}, {\"__ndarray__\": [[-2.937482111710803e-29], [-4.708527339044278e+214], [-5.62262576497649e+68]], \"dtype\": \"float64\", \"shape\": [3, 1], \"Corder\": true}], \"task3\": [{\"__ndarray__\": [[48506, -8208, -2323, -42632, -37130, 6317, -346, 28727], [-39432, -2813, 12000, 37266, 28457, -28774, 9193, 1945], [23582, 15271, -19458, 2009, -13383, -23067, 821, -35268], [-6730, 8065, 3048, 19644, 13563, -5324, -3583, -17783], [29391, 8495, -22202, -25782, -12722, 2634, -21327, 2777], [23946, -12401, 10651, -18540, -39014, -14482, 20230, 24802], [-10750, 25247, -37835, -5284, 238, 1056, -32336, -24844], [-12009, -6748, 41340, 16307, 4256, 65230, -13003, 9533]], \"dtype\": \"int64\", \"shape\": [8, 8], \"Corder\": true}, {\"__ndarray__\": [[-830, 830], [-516, 516]], \"dtype\": \"int64\", \"shape\": [2, 2], \"Corder\": true}, {\"__ndarray__\": [[3737, -3005, 2001, 4167], [10260, -5360, 4416, 5317], [9164, -304, 4252, 2955], [1789, 12291, 2981, 902]], \"dtype\": \"int64\", \"shape\": [4, 4], \"Corder\": true}, {\"__ndarray__\": [[-7132, -43627, 26225, -37002, -4029, 22759], [12604, -34143, 19871, -12877, -4428, 18386], [10135, 471, 485, 7453, -882, -2864], [-7921, 25168, -14713, -6843, 10992, -8530], [-12608, 19603, -5291, 16208, -9967, -23383], [10775, -11255, 7687, 32784, -18639, -3685]], \"dtype\": \"int64\", \"shape\": [6, 6], \"Corder\": true}, {\"__ndarray__\": [[3479, -3486, -611], [387, -1143, -3015], [-524, -291, -3040]], \"dtype\": \"int64\", \"shape\": [3, 3], \"Corder\": true}, {\"__ndarray__\": [[-2968, -3136, -648], [464, 554, 585], [-5766, -4374, -11655]], \"dtype\": \"int64\", \"shape\": [3, 3], \"Corder\": true}, {\"__ndarray__\": [[21987, 10628, 21988, 9512, -14254, 2862], [13559, 16625, 46019, 18639, -26835, -4995], [29597, 15802, -13560, 17753, -23264, -24373], [-29885, -18482, -29197, -27354, 24658, 4342], [-2292, 1900, 25073, 4470, -1086, 11279], [-4760, -15348, -34937, -22981, 15002, -6600]], \"dtype\": \"int64\", \"shape\": [6, 6], \"Corder\": true}, {\"__ndarray__\": [[11503, -6754, -1815, -10766, 1149, -8275], [-7095, -8295, 10598, -18954, 23757, 4560], [12906, -4185, 13754, -19508, 27283, -5663], [-30623, -7288, -8748, 6081, -10953, 10366], [-338, -4252, -16448, 3800, -28137, -1403], [-10174, -5932, 3717, -9211, 11584, -2094]], \"dtype\": \"int64\", \"shape\": [6, 6], \"Corder\": true}, {\"__ndarray__\": [[8012, 5161, 3784, 11445, 9975], [11218, 4253, -942, 9406, -1859], [-2770, -9366, -6886, -15593, -34320], [-7052, -11803, 1615, -13682, -23176], [-9820, -10267, -8899, -19112, -24718]], \"dtype\": \"int64\", \"shape\": [5, 5], \"Corder\": true}, {\"__ndarray__\": [[942, -5394, 1617], [1870, 2822, 749], [6300, 1440, 3612]], \"dtype\": \"int64\", \"shape\": [3, 3], \"Corder\": true}], \"task4_1\": [{\"__ndarray__\": [[-4, 2, -20, -20, 8, -18, 10, -6], [2, -10, 5, -4, -6, -8, 1, 5], [24, -18, 9, -18, 12, 18, 9, 27], [54, -9, -45, -45, 36, 63, 90, 54], [-8, -48, -56, -72, 72, -8, 64, -80], [-42, 14, -49, 35, 35, -63, 42, 63], [-8, -56, 64, 80, 80, -64, 0, 48], [6, -48, -60, -60, -18, -6, 0, 6]], \"dtype\": \"int64\", \"shape\": [8, 8], \"Corder\": true}, {\"__ndarray__\": [[-36, -6], [-3, 24]], \"dtype\": \"int64\", \"shape\": [2, 2], \"Corder\": true}, {\"__ndarray__\": [[0, 0, 0, 0], [49, -56, -63, 70], [18, 12, 2, 8], [0, 0, 0, 0]], \"dtype\": \"int64\", \"shape\": [4, 4], \"Corder\": true}, {\"__ndarray__\": [[14, 35, 63, -42, 42, 35], [4, -4, -20, -12, -36, 4], [18, -36, -9, 18, 54, 27], [-72, 0, -80, 64, -56, 64], [0, 24, 0, 56, -48, 32], [-27, -72, -81, 36, -54, -90]], \"dtype\": \"int64\", \"shape\": [6, 6], \"Corder\": true}, {\"__ndarray__\": [[-20, -5, 35], [-32, 36, 4], [-16, 0, -40]], \"dtype\": \"int64\", \"shape\": [3, 3], \"Corder\": true}, {\"__ndarray__\": [[63, -36, 36], [0, 35, 5], [-35, 63, 14]], \"dtype\": \"int64\", \"shape\": [3, 3], \"Corder\": true}, {\"__ndarray__\": [[21, 15, 12, -21, 18, -27], [64, 32, -24, 32, 48, 48], [18, 10, -8, 2, 8, 12], [-90, 18, 63, 18, 63, -54], [-10, 35, -30, 40, -30, 0], [-9, 7, 9, -9, -5, -7]], \"dtype\": \"int64\", \"shape\": [6, 6], \"Corder\": true}, {\"__ndarray__\": [[-81, 45, -81, -9, -81, 45], [-40, -64, 32, -8, -32, 24], [25, 5, 40, -40, -30, 20], [-36, 28, -12, -36, -16, 12], [36, 81, 27, -18, -27, 54], [-63, -56, -21, 7, -70, -7]], \"dtype\": \"int64\", \"shape\": [6, 6], \"Corder\": true}, {\"__ndarray__\": [[63, 54, 9, -45, -27], [-80, 10, 100, -20, -60], [32, 12, -12, 32, -20], [12, 54, 36, 12, -30], [-6, -3, -6, 3, 0]], \"dtype\": \"int64\", \"shape\": [5, 5], \"Corder\": true}, {\"__ndarray__\": [[2, 12, 12], [-6, -36, -48], [-10, -14, 14]], \"dtype\": \"int64\", \"shape\": [3, 3], \"Corder\": true}], \"task4_2\": [{\"__ndarray__\": [[-4, 1, -30, 90, 32, -63, -40, -18], [4, -10, 15, 36, -48, -56, -8, 30], [16, -6, 9, 54, 32, 42, -24, 54], [-12, 1, 15, -45, -32, -49, 80, -36], [-2, -6, -21, 81, 72, -7, -64, -60], [-12, 2, -21, -45, 40, -63, -48, 54], [2, 7, -24, 90, -80, 56, 0, -36], [2, -8, -30, 90, -24, -7, 0, 6]], \"dtype\": \"int64\", \"shape\": [8, 8], \"Corder\": true}, {\"__ndarray__\": [[-36, -3], [-6, 24]], \"dtype\": \"int64\", \"shape\": [2, 2], \"Corder\": true}, {\"__ndarray__\": [[0, -7, -12, 0], [0, -56, 18, 0], [0, -42, 2, 0], [0, -21, -10, 0]], \"dtype\": \"int64\", \"shape\": [4, 4], \"Corder\": true}, {\"__ndarray__\": [[14, -20, -81, 48, 48, -45], [-7, -4, -45, -24, 72, 9], [-14, -16, -9, 16, -48, 27], [63, 0, -90, 64, 56, 72], [0, -12, 0, -56, -48, -36], [21, -32, -81, 32, 48, -90]], \"dtype\": \"int64\", \"shape\": [6, 6], \"Corder\": true}, {\"__ndarray__\": [[-20, 4, -28], [40, 36, 4], [20, 0, -40]], \"dtype\": \"int64\", \"shape\": [3, 3], \"Corder\": true}, {\"__ndarray__\": [[63, -20, 28], [0, 35, 7], [-45, 45, 14]], \"dtype\": \"int64\", \"shape\": [3, 3], \"Corder\": true}, {\"__ndarray__\": [[21, 40, 8, 63, 30, -9], [24, 32, -6, -36, 30, 6], [27, 40, -8, -9, 20, 6], [30, -16, -14, 18, -35, 6], [-6, 56, -12, -72, -30, 0], [-27, 56, 18, 81, -25, -7]], \"dtype\": \"int64\", \"shape\": [6, 6], \"Corder\": true}, {\"__ndarray__\": [[-81, -40, 45, 4, -81, 35], [45, -64, 20, -4, 36, -21], [-45, 8, 40, -32, 54, -28], [81, 56, -15, -36, 36, -21], [36, -72, -15, 8, -27, 42], [-81, 64, 15, -4, -90, -7]], \"dtype\": \"int64\", \"shape\": [6, 6], \"Corder\": true}, {\"__ndarray__\": [[63, -60, -4, -30, 3], [72, 10, 40, 12, -6], [-72, 30, -12, -48, -5], [18, -90, -24, 12, 5], [54, -30, -24, -18, 0]], \"dtype\": \"int64\", \"shape\": [5, 5], \"Corder\": true}, {\"__ndarray__\": [[2, -36, -12], [2, -36, -16], [10, -42, 14]], \"dtype\": \"int64\", \"shape\": [3, 3], \"Corder\": true}], \"task5\": [[{\"__ndarray__\": [[-3, -1, -9, 8, -2, -4], [-7, 7, 2, 0, -7, -7], [-1, -6, -2, -8, 6, -8], [5, -7, 7, 6, -4, -6], [1, 6, 2, -8, -2, 6], [6, 9, 5, 2, 8, 6], [-7, 1, -2, 8, 1, -2], [-4, 3, 9, 8, 4, 5]], \"dtype\": \"int64\", \"shape\": [8, 6], \"Corder\": true}, 0], [{\"__ndarray__\": [[-2, 3, -10, 8, 2, 2], [-7, -10, 6, -3, -9, -3]], \"dtype\": \"int64\", \"shape\": [2, 6], \"Corder\": true}, 0], [{\"__ndarray__\": [[-8, -10, -5, 7, -1, -6, -1, 1], [-9, 2, -3, -9, 9, -10, -6, -2], [6, -2, 0, 4, -5, -8, 6, -6], [1, 7, 3, 0, -2, -9, 1, -8]], \"dtype\": \"int64\", \"shape\": [4, 8], \"Corder\": true}, 0], [{\"__ndarray__\": [[0, 6, 2, 0, -9], [-2, -9, -2, -2, -3], [6, -10, 0, -3, -1], [-4, -8, -8, 7, -6], [1, 1, 8, -5, -9], [1, 8, -6, 1, 6]], \"dtype\": \"int64\", \"shape\": [6, 5], \"Corder\": true}, 0], [{\"__ndarray__\": [[8, 0, -9, 3, -9, -7, 6, -8], [2, -2, -4, 4, 0, 9, -9, 4], [3, 9, 0, -8, 6, 1, 4, 5]], \"dtype\": \"int64\", \"shape\": [3, 8], \"Corder\": true}, 0], [{\"__ndarray__\": [[-1, -3, 7, -10, -3, -5, -6, 4], [4, -9, -10, 0, -1, 7, 7, 6], [-3, 4, -3, 6, 1, -3, 3, -7]], \"dtype\": \"int64\", \"shape\": [3, 8], \"Corder\": true}, 0], [{\"__ndarray__\": [[-1, 2, 6, -2, 6, -2, -2, -10], [-9, 5, -10, -1, 7, -3, 0, -9], [-3, -3, 6, 4, 6, 2, 8, -6], [1, -10, -6, -3, 2, -3, 0, -10], [2, 8, -8, 6, -6, 9, -3, 3], [-7, 0, 9, 4, 8, -4, 8, 8]], \"dtype\": \"int64\", \"shape\": [6, 8], \"Corder\": true}, 0], [{\"__ndarray__\": [[0, 8, -6, 8, 0], [1, -1, -3, -2, -7], [-6, -3, -2, 4, 4], [5, 3, -3, 7, -1], [9, -5, 1, -9, -4], [5, -8, 2, -8, 7]], \"dtype\": \"int64\", \"shape\": [6, 5], \"Corder\": true}, 0], [{\"__ndarray__\": [[0, -2, -2], [-6, 6, -2], [6, 8, -4], [-2, -4, 2], [0, 3, 8]], \"dtype\": \"int64\", \"shape\": [5, 3], \"Corder\": true}, 0], [{\"__ndarray__\": [[4, 9, 6, 2], [5, -7, -6, -6], [-2, 6, 2, -9]], \"dtype\": \"int64\", \"shape\": [3, 4], \"Corder\": true}, 0]]}'"
                        ]
                    },
                    "execution_count": 12,
                    "metadata": {},
                    "output_type": "execute_result"
                }
            ],
            "source": [
                "json_tricks.dump(answer, '.answer.json')"
            ]
        }
    ],
    "metadata": {
        "kernelspec": {
            "display_name": "Python 3",
            "language": "python",
            "name": "python3"
        },
        "language_info": {
            "codemirror_mode": {
                "name": "ipython",
                "version": 3
            },
            "file_extension": ".py",
            "mimetype": "text/x-python",
            "name": "python",
            "nbconvert_exporter": "python",
            "pygments_lexer": "ipython3",
            "version": "3.11.13"
        }
    },
    "nbformat": 4,
    "nbformat_minor": 5
}
